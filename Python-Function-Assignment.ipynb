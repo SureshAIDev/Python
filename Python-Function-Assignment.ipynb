{
 "cells": [
  {
   "cell_type": "code",
   "execution_count": 7,
   "id": "270ac0a9",
   "metadata": {},
   "outputs": [],
   "source": [
    "#Question1\n",
    "#Create a function, and list out the items in the list\n",
    "def Subfields():\n",
    "    mylist=[\"Sub-fields in AI are:\",\"Machine Learning\",\"Neural Networks\",\"Vision\",\"Robotics\",\"Speech Processing\",\"Natural Language Processing\"]\n",
    "    for temp in mylist:\n",
    "        print(temp)  "
   ]
  },
  {
   "cell_type": "code",
   "execution_count": 8,
   "id": "f685fcb8",
   "metadata": {},
   "outputs": [
    {
     "name": "stdout",
     "output_type": "stream",
     "text": [
      "Sub-fields in AI are:\n",
      "Machine Learning\n",
      "Neural Networks\n",
      "Vision\n",
      "Robotics\n",
      "Speech Processing\n",
      "Natural Language Processing\n"
     ]
    }
   ],
   "source": [
    "Subfields()"
   ]
  },
  {
   "cell_type": "code",
   "execution_count": 9,
   "id": "20e1090c",
   "metadata": {},
   "outputs": [],
   "source": [
    "#Question2\n",
    "#Create OddEven function\n",
    "def OddEven():\n",
    "    givenNumber=int(input(\"Enter a number:\"))\n",
    "    if(givenNumber%2==0):\n",
    "        print(givenNumber,\"is even number\")\n",
    "    else:\n",
    "        print(givenNumber,\"is odd number\")"
   ]
  },
  {
   "cell_type": "code",
   "execution_count": 10,
   "id": "8ebaa2f1",
   "metadata": {},
   "outputs": [
    {
     "name": "stdout",
     "output_type": "stream",
     "text": [
      "Enter a number:52452\n",
      "52452 is even number\n"
     ]
    }
   ],
   "source": [
    "OddEven()"
   ]
  },
  {
   "cell_type": "code",
   "execution_count": 11,
   "id": "175f6726",
   "metadata": {},
   "outputs": [],
   "source": [
    "#Question2\n",
    "#Create a function that tells elegibility of marriage for male and female according to their age limit like 21 for male and 18 for female\n",
    "def elegibility():\n",
    "    getGender=input(\"Your Gender:\")\n",
    "    getAge=int(input(\"Your age:\"))\n",
    "    if(getGender==\"male\" and getAge>=21):\n",
    "        print(\"ELIGIBLE\")\n",
    "    elif(getGender==\"female\" and getAge>=18):\n",
    "        print(\"ELIGIBLE\")\n",
    "    else:\n",
    "        print(\"NOT ELIGIBLE\")"
   ]
  },
  {
   "cell_type": "code",
   "execution_count": 12,
   "id": "aa0b47eb",
   "metadata": {},
   "outputs": [
    {
     "name": "stdout",
     "output_type": "stream",
     "text": [
      "Your Gender:male\n",
      "Your age:20\n",
      "NOT ELIGIBLE\n"
     ]
    }
   ],
   "source": [
    "elegibility()"
   ]
  },
  {
   "cell_type": "code",
   "execution_count": 13,
   "id": "dd23848e",
   "metadata": {},
   "outputs": [],
   "source": [
    "#Question3\n",
    "#calculate the percentage of your 10th mark\n",
    "def percentage():\n",
    "    subject1=98\n",
    "    subject2=87\n",
    "    subject3=95\n",
    "    subject4=95\n",
    "    subject5=93\n",
    "    total=(subject1+subject2+subject3+subject4+subject5)/500\n",
    "    percent=total*100\n",
    "    print(\"Subject1=\",subject1)\n",
    "    print(\"Subject2=\",subject2)\n",
    "    print(\"Subject3=\",subject3)\n",
    "    print(\"Subject4=\",subject4)\n",
    "    print(\"Subject5=\",subject5)\n",
    "    print(\"total:\",total)\n",
    "    print(\"percentage\",percent)"
   ]
  },
  {
   "cell_type": "code",
   "execution_count": 14,
   "id": "2281dd14",
   "metadata": {},
   "outputs": [
    {
     "name": "stdout",
     "output_type": "stream",
     "text": [
      "Subject1= 98\n",
      "Subject2= 87\n",
      "Subject3= 95\n",
      "Subject4= 95\n",
      "Subject5= 93\n",
      "total: 0.936\n",
      "percentage 93.60000000000001\n"
     ]
    }
   ],
   "source": [
    "percentage()"
   ]
  },
  {
   "cell_type": "code",
   "execution_count": 5,
   "id": "1e76274e",
   "metadata": {},
   "outputs": [],
   "source": [
    "#Question4\n",
    "#print area and perimeter of triangle using class and functions\n",
    "def triangle():\n",
    "    getHeight=int(input(\"Height:\"))\n",
    "    getBreadth=int(input(\"Breadth:\"))\n",
    "    print(\"Area formula:\",\"(Height*Breadth)/2\")\n",
    "    AreaFormula=(getHeight*getBreadth)/2\n",
    "    AreaOfTriangle=AreaFormula\n",
    "    print(\"Area of Triangle:\",AreaOfTriangle)\n",
    "    \n",
    "    getHeight1=int(input(\"Height1:\"))\n",
    "    getHeight2=int(input(\"Height2:\"))\n",
    "    getBreadth1=int(input(\"Breadth:\"))\n",
    "    PerimeterFormula=getHeight1+getHeight2+getBreadth1\n",
    "    PerimeterOfTriangle=PerimeterFormula\n",
    "    \n",
    "    print(\"Height:\",getHeight)\n",
    "    print(\"Breadth:\",getBreadth)\n",
    "    \n",
    "   \n",
    "    print(\"Height1:\",getHeight1)\n",
    "    print(\"Height2:\",getHeight2)\n",
    "    print(\"Breadth1:\",getBreadth1)\n",
    "    print(\"Perimeter formula:\",\"Height1+Height2+Breadth\")\n",
    "    print(\"Perimeter formula:\",PerimeterOfTriangle)\n"
   ]
  },
  {
   "cell_type": "code",
   "execution_count": 6,
   "id": "26a422fa",
   "metadata": {},
   "outputs": [
    {
     "name": "stdout",
     "output_type": "stream",
     "text": [
      "Height:32\n",
      "Breadth:34\n",
      "Area formula: (Height*Breadth)/2\n",
      "Area of Triangle: 544.0\n",
      "Height1:2\n",
      "Height2:4\n",
      "Breadth:4\n",
      "Height: 32\n",
      "Breadth: 34\n",
      "Height1: 2\n",
      "Height2: 4\n",
      "Breadth1: 4\n",
      "Perimeter formula: Height1+Height2+Breadth\n",
      "Perimeter formula: 10\n"
     ]
    }
   ],
   "source": [
    "triangle()"
   ]
  },
  {
   "cell_type": "code",
   "execution_count": null,
   "id": "5daa9a9b",
   "metadata": {},
   "outputs": [],
   "source": []
  }
 ],
 "metadata": {
  "kernelspec": {
   "display_name": "Python 3 (ipykernel)",
   "language": "python",
   "name": "python3"
  },
  "language_info": {
   "codemirror_mode": {
    "name": "ipython",
    "version": 3
   },
   "file_extension": ".py",
   "mimetype": "text/x-python",
   "name": "python",
   "nbconvert_exporter": "python",
   "pygments_lexer": "ipython3",
   "version": "3.11.5"
  }
 },
 "nbformat": 4,
 "nbformat_minor": 5
}
