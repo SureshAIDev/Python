{
 "cells": [
  {
   "cell_type": "code",
   "execution_count": 2,
   "id": "464c5a76",
   "metadata": {},
   "outputs": [],
   "source": [
    "#Question1\n",
    "# Add  multiple methods under in one class\n",
    "class myPythonCalss:\n",
    "    \n",
    "    def Subfields():\n",
    "        mylist=[\"Sub-fields in AI are:\",\"Machine Learning\",\"Neural Networks\",\"Vision\",\"Robotics\",\"Speech Processing\",\"Natural Language Processing\"]\n",
    "        for temp in mylist:\n",
    "            print(temp) \n",
    "            \n",
    "    def OddEven():\n",
    "        givenNumber=int(input(\"Enter a number:\"))\n",
    "        if(givenNumber%2==0):\n",
    "            print(givenNumber,\"is even number\")\n",
    "        else:\n",
    "            print(givenNumber,\"is odd number\") \n",
    "        \n",
    "    def ():\n",
    "        getGender=input(\"Your Gender:\")\n",
    "        getAge=int(input(\"Your age:\"))elegibility\n",
    "        if(getGender==\"male\" and getAge>=21):\n",
    "            print(\"ELIGIBLE\")\n",
    "        elif(getGender==\"female\" and getAge>=18):\n",
    "            print(\"ELIGIBLE\")\n",
    "        else:\n",
    "            print(\"NOT ELIGIBLE\") \n",
    "        \n",
    "    def percentage():\n",
    "        subject1=98\n",
    "        subject2=87\n",
    "        subject3=95\n",
    "        subject4=95\n",
    "        subject5=93\n",
    "        total=(subject1+subject2+subject3+subject4+subject5)/500\n",
    "        percent=total*100\n",
    "        print(\"Subject1=\",subject1)\n",
    "        print(\"Subject2=\",subject2)\n",
    "        print(\"Subject3=\",subject3)\n",
    "        print(\"Subject4=\",subject4)\n",
    "        print(\"Subject5=\",subject5)\n",
    "        print(\"total:\",total)\n",
    "        print(\"percentage\",percent)  \n",
    "    \n",
    "    def triangle():\n",
    "        \n",
    "        getHeight=int(input(\"Height:\"))\n",
    "        getBreadth=int(input(\"Breadth:\"))\n",
    "        print(\"Area formula:\",\"(Height*Breadth)/2\")\n",
    "        AreaFormula=(getHeight*getBreadth)/2\n",
    "        AreaOfTriangle=AreaFormula\n",
    "        print(\"Area of Triangle:\",AreaOfTriangle)\n",
    "    \n",
    "        getHeight1=int(input(\"Height1:\"))\n",
    "        getHeight2=int(input(\"Height2:\"))\n",
    "        getBreadth1=int(input(\"Breadth:\"))\n",
    "        PerimeterFormula=getHeight1+getHeight2+getBreadth1\n",
    "        PerimeterOfTriangle=PerimeterFormula\n",
    "    \n",
    "        print(\"Height:\",getHeight)\n",
    "        print(\"Breadth:\",getBreadth)\n",
    "    \n",
    "   \n",
    "        print(\"Height1:\",getHeight1)\n",
    "        print(\"Height2:\",getHeight2)\n",
    "        print(\"Breadth1:\",getBreadth1)\n",
    "        print(\"Perimeter formula:\",\"Height1+Height2+Breadth\")\n",
    "        print(\"Perimeter formula:\",PerimeterOfTriangle)"
   ]
  },
  {
   "cell_type": "code",
   "execution_count": 4,
   "id": "340293c6",
   "metadata": {},
   "outputs": [
    {
     "name": "stdout",
     "output_type": "stream",
     "text": [
      "Sub-fields in AI are:\n",
      "Machine Learning\n",
      "Neural Networks\n",
      "Vision\n",
      "Robotics\n",
      "Speech Processing\n",
      "Natural Language Processing\n"
     ]
    }
   ],
   "source": [
    "myPythonCalss.Subfields()"
   ]
  },
  {
   "cell_type": "code",
   "execution_count": 5,
   "id": "01ea47da",
   "metadata": {},
   "outputs": [
    {
     "name": "stdout",
     "output_type": "stream",
     "text": [
      "Enter a number:20\n",
      "20 is even number\n"
     ]
    }
   ],
   "source": [
    "myPythonCalss.OddEven()"
   ]
  },
  {
   "cell_type": "code",
   "execution_count": 6,
   "id": "d20f3fc8",
   "metadata": {},
   "outputs": [
    {
     "name": "stdout",
     "output_type": "stream",
     "text": [
      "Your Gender:male\n",
      "Your age:23\n",
      "ELIGIBLE\n"
     ]
    }
   ],
   "source": [
    "myPythonCalss.elegibility()"
   ]
  },
  {
   "cell_type": "code",
   "execution_count": 7,
   "id": "d8aac28e",
   "metadata": {},
   "outputs": [
    {
     "name": "stdout",
     "output_type": "stream",
     "text": [
      "Subject1= 98\n",
      "Subject2= 87\n",
      "Subject3= 95\n",
      "Subject4= 95\n",
      "Subject5= 93\n",
      "total: 0.936\n",
      "percentage 93.60000000000001\n"
     ]
    }
   ],
   "source": [
    "myPythonCalss.percentage()"
   ]
  },
  {
   "cell_type": "code",
   "execution_count": 8,
   "id": "7bfdc8b5",
   "metadata": {},
   "outputs": [
    {
     "name": "stdout",
     "output_type": "stream",
     "text": [
      "Height:32\n",
      "Breadth:34\n",
      "Area formula: (Height*Breadth)/2\n",
      "Area of Triangle: 544.0\n",
      "Height1:2\n",
      "Height2:4\n",
      "Breadth:4\n",
      "Height: 32\n",
      "Breadth: 34\n",
      "Height1: 2\n",
      "Height2: 4\n",
      "Breadth1: 4\n",
      "Perimeter formula: Height1+Height2+Breadth\n",
      "Perimeter formula: 10\n"
     ]
    }
   ],
   "source": [
    "myPythonCalss.triangle()"
   ]
  },
  {
   "cell_type": "code",
   "execution_count": null,
   "id": "098f5563",
   "metadata": {},
   "outputs": [],
   "source": []
  }
 ],
 "metadata": {
  "kernelspec": {
   "display_name": "Python 3 (ipykernel)",
   "language": "python",
   "name": "python3"
  },
  "language_info": {
   "codemirror_mode": {
    "name": "ipython",
    "version": 3
   },
   "file_extension": ".py",
   "mimetype": "text/x-python",
   "name": "python",
   "nbconvert_exporter": "python",
   "pygments_lexer": "ipython3",
   "version": "3.11.5"
  }
 },
 "nbformat": 4,
 "nbformat_minor": 5
}
