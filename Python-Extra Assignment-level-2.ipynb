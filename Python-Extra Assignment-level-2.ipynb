{
 "cells": [
  {
   "cell_type": "code",
   "execution_count": 16,
   "id": "19ff27b1",
   "metadata": {},
   "outputs": [
    {
     "name": "stdout",
     "output_type": "stream",
     "text": [
      "0\n",
      "1\n",
      "2\n",
      "3\n",
      "4\n",
      "5\n",
      "6\n",
      "7\n",
      "8\n",
      "9\n",
      "10\n",
      "11\n",
      "12\n",
      "13\n",
      "14\n",
      "15\n",
      "16\n",
      "17\n",
      "18\n",
      "19\n",
      "20\n"
     ]
    }
   ],
   "source": [
    "#Question1\n",
    "#print 0 to 20 by using range\n",
    "rangeValue= range(0,21)\n",
    "for temp in rangeValue:\n",
    "    print(temp)"
   ]
  },
  {
   "cell_type": "code",
   "execution_count": 17,
   "id": "9122fa19",
   "metadata": {},
   "outputs": [
    {
     "name": "stdout",
     "output_type": "stream",
     "text": [
      "10 11 12 13 14 15 16 17 18 19 "
     ]
    }
   ],
   "source": [
    "#Question2\n",
    "#print 0 to 20 by using range\n",
    "rangeValue= range(10,20)\n",
    "for temp in rangeValue:\n",
    "    print(temp, end=' ')"
   ]
  },
  {
   "cell_type": "code",
   "execution_count": 18,
   "id": "b88c7c3f",
   "metadata": {},
   "outputs": [
    {
     "name": "stdout",
     "output_type": "stream",
     "text": [
      "[10, 20, 14, 55, 43, 87, 76]\n",
      "Number of item in the List: 7\n"
     ]
    }
   ],
   "source": [
    "#Question3\n",
    "#Print number of items in the list by using 'len'\n",
    "mylist=[10, 20, 14, 55, 43, 87, 76]\n",
    "print(mylist)\n",
    "print(\"Number of item in the List:\",len(mylist))\n"
   ]
  },
  {
   "cell_type": "code",
   "execution_count": 6,
   "id": "b7082206",
   "metadata": {},
   "outputs": [
    {
     "name": "stdout",
     "output_type": "stream",
     "text": [
      "A\n",
      "r\n",
      "t\n",
      "i\n",
      "f\n",
      "i\n",
      "c\n",
      "i\n",
      "a\n",
      "l\n",
      " \n",
      "I\n",
      "n\n",
      "t\n",
      "e\n",
      "l\n",
      "l\n",
      "i\n",
      "g\n",
      "e\n",
      "n\n",
      "c\n",
      "e\n"
     ]
    }
   ],
   "source": [
    "#Question4\n",
    "#Print word the one by one \"Artificial Intelligence\"\n",
    "\n",
    "strValue=\"Artificial Intelligence\"\n",
    "for text in range(0, len(strValue)):\n",
    "    print(strValue[text])"
   ]
  },
  {
   "cell_type": "code",
   "execution_count": 1,
   "id": "43914501",
   "metadata": {},
   "outputs": [
    {
     "name": "stdout",
     "output_type": "stream",
     "text": [
      "-Your Name-\n",
      "-Your Age-\n",
      "-Your Profession-\n"
     ]
    }
   ],
   "source": [
    "#Question5\n",
    "#Pritnt the expected Output\n",
    "mylist=[\"-Your Name-\",\"-Your Age-\",\"-Your Profession-\"]\n",
    "for temp in mylist:\n",
    "    print(temp)\n"
   ]
  },
  {
   "cell_type": "code",
   "execution_count": 9,
   "id": "cf406333",
   "metadata": {},
   "outputs": [
    {
     "name": "stdout",
     "output_type": "stream",
     "text": [
      "(1, 'Welcome', 2, 'Hope')\n"
     ]
    }
   ],
   "source": [
    "#Question6\n",
    "#Print the Tuple\n",
    "myTuple=(1, 'Welcome', 2, 'Hope')\n",
    "print(myTuple)"
   ]
  },
  {
   "cell_type": "code",
   "execution_count": 10,
   "id": "ab8a8155",
   "metadata": {},
   "outputs": [
    {
     "name": "stdout",
     "output_type": "stream",
     "text": [
      "((0, 1, 2, 3), ('python', 'geek'))\n"
     ]
    }
   ],
   "source": [
    "#Question7\n",
    "#Print the nested Tuple\n",
    "tuple1=(0, 1, 2, 3)\n",
    "tuple2=('python', 'geek')\n",
    "tuple3=(tuple1,tuple2)\n",
    "print(tuple3)"
   ]
  },
  {
   "cell_type": "code",
   "execution_count": 15,
   "id": "d99bb0f7",
   "metadata": {},
   "outputs": [
    {
     "name": "stdout",
     "output_type": "stream",
     "text": [
      "[20, 10, 16, 19, 25, 1, 276, 188]\n",
      "19 is odd\n",
      "25 is odd\n",
      "1 is odd\n"
     ]
    }
   ],
   "source": [
    "#Question8\n",
    "#print Odd Numbers in the list\n",
    "myList=[20,10,16,19,25,1,276,188]\n",
    "print(myList)\n",
    "for temp in myList:\n",
    "    if(temp%2==1):\n",
    "        print(temp,\"is odd\")\n"
   ]
  },
  {
   "cell_type": "code",
   "execution_count": 14,
   "id": "1ff1a166",
   "metadata": {},
   "outputs": [
    {
     "name": "stdout",
     "output_type": "stream",
     "text": [
      "[20, 10, 16, 19, 25, 1, 276, 188]\n",
      "20 is even\n",
      "10 is even\n",
      "16 is even\n",
      "276 is even\n",
      "188 is even\n"
     ]
    }
   ],
   "source": [
    "#Question9\n",
    "#print Even Numbers in the list\n",
    "mylist=[20,10,16,19,25,1,276,188]\n",
    "print(myList)\n",
    "for temp in myList:\n",
    "    if(temp%2==0):\n",
    "        print(temp,\"is even\")"
   ]
  },
  {
   "cell_type": "code",
   "execution_count": null,
   "id": "fb9b3a83",
   "metadata": {},
   "outputs": [],
   "source": []
  }
 ],
 "metadata": {
  "kernelspec": {
   "display_name": "Python 3 (ipykernel)",
   "language": "python",
   "name": "python3"
  },
  "language_info": {
   "codemirror_mode": {
    "name": "ipython",
    "version": 3
   },
   "file_extension": ".py",
   "mimetype": "text/x-python",
   "name": "python",
   "nbconvert_exporter": "python",
   "pygments_lexer": "ipython3",
   "version": "3.11.5"
  }
 },
 "nbformat": 4,
 "nbformat_minor": 5
}
