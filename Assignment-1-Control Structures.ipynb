{
 "cells": [
  {
   "cell_type": "code",
   "execution_count": 1,
   "id": "40edff50",
   "metadata": {},
   "outputs": [
    {
     "name": "stdout",
     "output_type": "stream",
     "text": [
      "Welcome to Assignment-1\n"
     ]
    }
   ],
   "source": [
    "#Question 1\n",
    "#Print Welcome to Assignment-1\n",
    "print(\"Welcome to Assignment-1\")"
   ]
  },
  {
   "cell_type": "code",
   "execution_count": 23,
   "id": "b0531b44",
   "metadata": {},
   "outputs": [
    {
     "name": "stdout",
     "output_type": "stream",
     "text": [
      "Num1= 10\n",
      "Num2= 30\n",
      "Add= 40\n"
     ]
    }
   ],
   "source": [
    "#Question2\n",
    "#Print addtion of two number\n",
    "Num1=10\n",
    "Num2=30\n",
    "Add=Num1+Num2\n",
    "print(\"Num1=\",Num1)\n",
    "print(\"Num2=\",Num2)\n",
    "print(\"Add=\",Add)"
   ]
  },
  {
   "cell_type": "code",
   "execution_count": 22,
   "id": "0e1f007d",
   "metadata": {},
   "outputs": [
    {
     "name": "stdout",
     "output_type": "stream",
     "text": [
      "Enter the MBI Index:30.0\n",
      "Obese\n"
     ]
    }
   ],
   "source": [
    "#Question3\n",
    "#Body mass of Index\n",
    "BmiValue=float(input(\"Enter the MBI Index:\"))\n",
    "if(BmiValue<18.5):\n",
    "    print(\"UnderWeight\")\n",
    "elif(BmiValue>=18.5 and BmiValue<=24.9):\n",
    "    print(\"Normal\")\n",
    "elif(BmiValue>=25 and BmiValue<=29.9):\n",
    "    print(\"OverWeight\")\n",
    "elif(BmiValue>=30 and BmiValue<=34.9):\n",
    "    print(\"Obese\")\n",
    "elif(BmiValue>=35 and BmiValue<=39.9):\n",
    "    print(\"Severly Obese\")\n",
    "elif(BmiValue>=40):\n",
    "    print(\"Morbidly Obese\")\n",
    "     "
   ]
  },
  {
   "cell_type": "code",
   "execution_count": null,
   "id": "69815d5f",
   "metadata": {},
   "outputs": [],
   "source": []
  },
  {
   "cell_type": "code",
   "execution_count": null,
   "id": "0794dbee",
   "metadata": {},
   "outputs": [],
   "source": []
  }
 ],
 "metadata": {
  "kernelspec": {
   "display_name": "Python 3 (ipykernel)",
   "language": "python",
   "name": "python3"
  },
  "language_info": {
   "codemirror_mode": {
    "name": "ipython",
    "version": 3
   },
   "file_extension": ".py",
   "mimetype": "text/x-python",
   "name": "python",
   "nbconvert_exporter": "python",
   "pygments_lexer": "ipython3",
   "version": "3.11.5"
  }
 },
 "nbformat": 4,
 "nbformat_minor": 5
}
