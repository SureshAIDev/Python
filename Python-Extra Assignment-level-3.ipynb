{
 "cells": [
  {
   "cell_type": "code",
   "execution_count": 34,
   "id": "28be90e5",
   "metadata": {},
   "outputs": [
    {
     "name": "stdout",
     "output_type": "stream",
     "text": [
      "value= 10\n",
      "Correct\n"
     ]
    }
   ],
   "source": [
    "#Question1\n",
    "## print 'CORRECT' if i == 10\n",
    "i=10\n",
    "if(i==10):\n",
    "    print('value=',i)\n",
    "    print('Correct')\n"
   ]
  },
  {
   "cell_type": "code",
   "execution_count": 35,
   "id": "5722b290",
   "metadata": {},
   "outputs": [
    {
     "name": "stdout",
     "output_type": "stream",
     "text": [
      "Enter the password:HOPE@123\n",
      "Your password is correct\n"
     ]
    }
   ],
   "source": [
    "#Question2\n",
    "#Check the password, using if and else\n",
    "password=input(\"Enter the password:\")\n",
    "\n",
    "if(password==\"HOPE@123\"):\n",
    "    print(\"Your password is correct\")\n",
    "else:\n",
    "    print(\"Your password is not correct\")\n"
   ]
  },
  {
   "cell_type": "code",
   "execution_count": 36,
   "id": "16500e63",
   "metadata": {},
   "outputs": [
    {
     "name": "stdout",
     "output_type": "stream",
     "text": [
      "Enter the age:20\n",
      "adult\n"
     ]
    }
   ],
   "source": [
    "#Question3\n",
    "#Catagory the people by their age like children, adult, citizen, senior citizen\n",
    "userAge=int(input(\"Enter the age:\"))\n",
    "if(userAge<18):\n",
    "    print(\"children\")\n",
    "elif(userAge>=18 and userAge<35):\n",
    "    print(\"adult\")\n",
    "elif(userAge>=35 and userAge<50):\n",
    "    print(\"citizen\")\n",
    "elif(userAge>=50):\n",
    "     print(\"senior citizen\")"
   ]
  },
  {
   "cell_type": "code",
   "execution_count": 22,
   "id": "f55ea48a",
   "metadata": {},
   "outputs": [
    {
     "name": "stdout",
     "output_type": "stream",
     "text": [
      "Enter the Number:5\n",
      "positive\n"
     ]
    }
   ],
   "source": [
    "#Question4\n",
    "#Find whether given number is positive or negative\n",
    "getNumber=int(input(\"Enter the Number:\"))\n",
    "if(getNumber>0):\n",
    "    print(\"positive\")\n",
    "elif(getNumber<0):\n",
    "    print(\"negative\")\n",
    "else:\n",
    "    print(\"given number is zero\")"
   ]
  },
  {
   "cell_type": "code",
   "execution_count": 28,
   "id": "0407e214",
   "metadata": {},
   "outputs": [
    {
     "name": "stdout",
     "output_type": "stream",
     "text": [
      "Enter the Number:20\n",
      "given number is divisible by 5\n"
     ]
    }
   ],
   "source": [
    "#Question5\n",
    "#Check whether the given number is divisible by 5\n",
    "getNumber=int(input(\"Enter the Number:\"))\n",
    "if(getNumber%5==0):\n",
    "    print(\"given number is divisible by 5\")\n",
    "else:\n",
    "    print(\"given number is not divisible by 5\")\n"
   ]
  }
 ],
 "metadata": {
  "kernelspec": {
   "display_name": "Python 3 (ipykernel)",
   "language": "python",
   "name": "python3"
  },
  "language_info": {
   "codemirror_mode": {
    "name": "ipython",
    "version": 3
   },
   "file_extension": ".py",
   "mimetype": "text/x-python",
   "name": "python",
   "nbconvert_exporter": "python",
   "pygments_lexer": "ipython3",
   "version": "3.11.5"
  }
 },
 "nbformat": 4,
 "nbformat_minor": 5
}
